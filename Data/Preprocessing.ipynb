{
  "nbformat": 4,
  "nbformat_minor": 0,
  "metadata": {
    "colab": {
      "provenance": []
    },
    "kernelspec": {
      "name": "python3",
      "display_name": "Python 3"
    },
    "language_info": {
      "name": "python"
    }
  },
  "cells": [
    {
      "cell_type": "code",
      "execution_count": 1,
      "metadata": {
        "id": "g8YDxn1jkGbK",
        "colab": {
          "base_uri": "https://localhost:8080/"
        },
        "outputId": "1a968d76-3312-4ef5-93c6-66ad6c872a9f"
      },
      "outputs": [
        {
          "output_type": "stream",
          "name": "stdout",
          "text": [
            "Files saved with inspectionId added.\n"
          ]
        }
      ],
      "source": [
        "import pandas as pd\n",
        "import uuid\n",
        "\n",
        "# Load CSV file\n",
        "df = pd.read_csv(\"dataBatch.csv\")\n",
        "\n",
        "# Define column subsets\n",
        "inspections_columns = [\"idRestaurant\", \"inspectionDate\", \"violationCode\", \"violationDescription\", \"criticalFlag\", \"score\", \"grade\"]\n",
        "restaurant_columns = [\"idRestaurant\", \"name\", \"borough\", \"buildingnum\", \"street\", \"zipcode\", \"phone\", \"cuisineType\"]\n",
        "\n",
        "# Extract tables\n",
        "inspections = df[inspections_columns].copy()\n",
        "restaurants = df[restaurant_columns].copy()\n",
        "\n",
        "# Generate UUIDs for each inspection row\n",
        "inspections[\"idInspection\"] = [uuid.uuid4() for _ in range(len(inspections))]\n",
        "\n",
        "# Save to new CSV files\n",
        "inspections.to_csv(\"inspections.csv\", index=False)\n",
        "restaurants.to_csv(\"restaurants.csv\", index=False)\n",
        "\n",
        "print(\"Files saved with inspectionId added.\")\n"
      ]
    },
    {
      "cell_type": "code",
      "source": [
        "inspections_restaurants_columns = ['idRestaurant', 'name', 'borough', 'inspectionDate', 'grade']\n",
        "inspections_restaurants = df[inspections_restaurants_columns]\n",
        "inspections_restaurants.to_csv(\"inspections_restaurants.csv\", index=False)\n"
      ],
      "metadata": {
        "id": "QFiVvnkxZGCn"
      },
      "execution_count": 2,
      "outputs": []
    }
  ]
}